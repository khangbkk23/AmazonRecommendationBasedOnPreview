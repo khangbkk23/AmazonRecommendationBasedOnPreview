{
 "cells": [
  {
   "cell_type": "markdown",
   "id": "699f9017",
   "metadata": {},
   "source": [
    "# Amazon Recommendation System Based On Preview"
   ]
  },
  {
   "cell_type": "code",
   "execution_count": 3,
   "id": "c447458a",
   "metadata": {},
   "outputs": [],
   "source": [
    "# Import libraries\n",
    "import pandas as pd\n",
    "import numpy as np\n",
    "import matplotlib.pyplot as plt\n",
    "import torch"
   ]
  },
  {
   "cell_type": "code",
   "execution_count": null,
   "id": "236cf1e4",
   "metadata": {},
   "outputs": [
    {
     "name": "stdout",
     "output_type": "stream",
     "text": [
      "Warning: Looks like you're using an outdated `kagglehub` version (installed: 0.3.12), please consider upgrading to the latest version (0.3.13).\n",
      "Dataset đã được lưu tại: /home/dikhangcshcmut/Code/code_for_fun/Project/RecommendationProduct/AmazonRecommendationBasedOnPreview/datasets\n"
     ]
    }
   ],
   "source": [
    "import kagglehub\n",
    "import os\n",
    "import shutil\n",
    "# Download latest version\n",
    "path = kagglehub.dataset_download(\"karkavelrajaj/amazon-sales-dataset\")\n",
    "data_dir = \"./dataset\"\n",
    "\n",
    "os.makedirs(data_dir, exist_ok=True)\n",
    "shutil.copytree(path, data_dir, dirs_exist_ok=True)\n",
    "\n",
    "print(\"Dataset đã được lưu tại:\", os.path.abspath(data_dir))"
   ]
  },
  {
   "cell_type": "markdown",
   "id": "5a44e002",
   "metadata": {},
   "source": [
    "## Reading dataset"
   ]
  },
  {
   "cell_type": "code",
   "execution_count": 12,
   "id": "59ae48d3",
   "metadata": {},
   "outputs": [
    {
     "name": "stdout",
     "output_type": "stream",
     "text": [
      "Number of rows: (1465, 16)\n",
      "Number of column: ['product_id', 'product_name', 'category', 'discounted_price', 'actual_price', 'discount_percentage', 'rating', 'rating_count', 'about_product', 'user_id', 'user_name', 'review_id', 'review_title', 'review_content', 'img_link', 'product_link']\n"
     ]
    }
   ],
   "source": [
    "dataset = pd.read_csv(data_dir+\"/amazon.csv\")\n",
    "\n",
    "print(f\"Number of rows: {dataset.shape}\")\n",
    "print(f\"Number of column: {dataset.columns.tolist()}\")"
   ]
  },
  {
   "cell_type": "markdown",
   "id": "850d4eb0",
   "metadata": {},
   "source": [
    "## Preprocessing dataset"
   ]
  },
  {
   "cell_type": "code",
   "execution_count": 19,
   "id": "48ace334",
   "metadata": {},
   "outputs": [
    {
     "name": "stdout",
     "output_type": "stream",
     "text": [
      "product_id             0\n",
      "product_name           0\n",
      "category               0\n",
      "discounted_price       0\n",
      "actual_price           0\n",
      "discount_percentage    0\n",
      "rating                 0\n",
      "rating_count           2\n",
      "about_product          0\n",
      "user_id                0\n",
      "user_name              0\n",
      "review_id              0\n",
      "review_title           0\n",
      "review_content         0\n",
      "img_link               0\n",
      "product_link           0\n",
      "dtype: int64\n",
      "product_id             0\n",
      "product_name           0\n",
      "category               0\n",
      "discounted_price       0\n",
      "actual_price           0\n",
      "discount_percentage    0\n",
      "rating                 0\n",
      "rating_count           0\n",
      "about_product          0\n",
      "user_id                0\n",
      "user_name              0\n",
      "review_id              0\n",
      "review_title           0\n",
      "review_content         0\n",
      "img_link               0\n",
      "product_link           0\n",
      "dtype: int64\n",
      "product_id             0\n",
      "product_name           0\n",
      "category               0\n",
      "discounted_price       0\n",
      "actual_price           0\n",
      "discount_percentage    0\n",
      "rating                 0\n",
      "rating_count           0\n",
      "about_product          0\n",
      "user_id                0\n",
      "user_name              0\n",
      "review_id              0\n",
      "review_title           0\n",
      "review_content         0\n",
      "img_link               0\n",
      "product_link           0\n",
      "dtype: int64\n"
     ]
    }
   ],
   "source": [
    "# Checking number of missing value\n",
    "print(dataset.isna().sum())\n",
    "\n",
    "import pandas as pd\n",
    "import numpy as np\n",
    "\n",
    "def fill_missing_auto(df: pd.DataFrame) -> pd.DataFrame:\n",
    "    df_copy = df.copy()\n",
    "    \n",
    "    for col in df_copy.columns:\n",
    "        if pd.api.types.is_numeric_dtype(df_copy[col]):\n",
    "            mean_val = df_copy[col].mean(skipna=True)\n",
    "            df_copy[col] = df_copy[col].fillna(mean_val)\n",
    "        else:\n",
    "            df_copy[col] = df_copy[col].where(df_copy[col].notna(), np.nan)\n",
    "    \n",
    "    return df_copy\n",
    "numeric_cols = [\"discounted_price\", \"actual_price\", \"discount_percentage\", \"rating\", \"rating_count\"]\n",
    "\n",
    "for col in numeric_cols:\n",
    "    dataset[col] = pd.to_numeric(dataset[col], errors=\"coerce\")\n",
    "\n",
    "# Sau đó fill missing auto\n",
    "dataset = fill_missing_auto(dataset)\n",
    "print(dataset.isna().sum())\n",
    "\n",
    "dataset = fill_missing_auto(dataset)\n",
    "print(dataset.isna().sum())"
   ]
  },
  {
   "cell_type": "code",
   "execution_count": 20,
   "id": "639b01ec",
   "metadata": {},
   "outputs": [
    {
     "name": "stdout",
     "output_type": "stream",
     "text": [
      "0    0.64\n",
      "1    0.43\n",
      "2    0.90\n",
      "3    0.53\n",
      "4    0.61\n",
      "5    0.85\n",
      "6    0.65\n",
      "7    0.23\n",
      "8    0.50\n",
      "9    0.33\n",
      "Name: discount_percentage, dtype: float64\n"
     ]
    }
   ],
   "source": [
    "print(dataset[\"discount_percentage\"][:10])"
   ]
  },
  {
   "cell_type": "code",
   "execution_count": 21,
   "id": "2e7a7202",
   "metadata": {},
   "outputs": [],
   "source": [
    "import re\n",
    "def clear_special_character(x):\n",
    "    if pd.isna(x):\n",
    "        return np.nan\n",
    "    \n",
    "    x = str(x)\n",
    "    x = re.sub(r\"[^0-9.]\", \"\", x)\n",
    "    return x if x != \"\" else np.nan\n",
    "\n",
    "\n",
    "def clear_price(x):\n",
    "    x = clear_special_character(x)\n",
    "    try:\n",
    "        return float(x)\n",
    "    except:\n",
    "        return np.nan\n",
    "    \n",
    "def clear_percent(x):\n",
    "    x = clear_special_character(x)\n",
    "    try:\n",
    "        return float(x) / 100.0\n",
    "    except:\n",
    "        return np.nan"
   ]
  },
  {
   "cell_type": "code",
   "execution_count": 22,
   "id": "d13711d2",
   "metadata": {},
   "outputs": [
    {
     "name": "stdout",
     "output_type": "stream",
     "text": [
      "   discounted_price  actual_price  discount_percentage\n",
      "0            399.00        1099.0               0.0064\n",
      "1            199.00         349.0               0.0043\n",
      "2            199.00        1899.0               0.0090\n",
      "3            329.00         699.0               0.0053\n",
      "4            154.00         399.0               0.0061\n",
      "5            149.00        1000.0               0.0085\n",
      "6            176.63         499.0               0.0065\n",
      "7            229.00         299.0               0.0023\n",
      "8            499.00         999.0               0.0050\n",
      "9            199.00         299.0               0.0033\n"
     ]
    }
   ],
   "source": [
    "# Aplly for columns needed\n",
    "dataset[\"discounted_price\"] = dataset[\"discounted_price\"].apply(clear_price)\n",
    "dataset[\"actual_price\"] = dataset[\"actual_price\"].apply(clear_price)\n",
    "dataset[\"discount_percentage\"] = dataset[\"discount_percentage\"].apply(clear_percent)\n",
    "\n",
    "print(dataset[[\"discounted_price\", \"actual_price\", \"discount_percentage\"]].head(10))"
   ]
  }
 ],
 "metadata": {
  "kernelspec": {
   "display_name": "Python (pytorch-venv)",
   "language": "python",
   "name": "pytorch-venv"
  },
  "language_info": {
   "codemirror_mode": {
    "name": "ipython",
    "version": 3
   },
   "file_extension": ".py",
   "mimetype": "text/x-python",
   "name": "python",
   "nbconvert_exporter": "python",
   "pygments_lexer": "ipython3",
   "version": "3.12.3"
  }
 },
 "nbformat": 4,
 "nbformat_minor": 5
}
