{
 "cells": [
  {
   "cell_type": "markdown",
   "id": "699f9017",
   "metadata": {},
   "source": [
    "# Amazon Recommendation System Based On Preview"
   ]
  },
  {
   "cell_type": "code",
   "execution_count": 3,
   "id": "c447458a",
   "metadata": {},
   "outputs": [],
   "source": [
    "# Import libraries\n",
    "import pandas as pd\n",
    "import numpy as np\n",
    "import matplotlib.pyplot as plt\n",
    "import torch"
   ]
  },
  {
   "cell_type": "code",
   "execution_count": 2,
   "id": "236cf1e4",
   "metadata": {},
   "outputs": [
    {
     "name": "stdout",
     "output_type": "stream",
     "text": [
      "Warning: Looks like you're using an outdated `kagglehub` version (installed: 0.3.12), please consider upgrading to the latest version (0.3.13).\n",
      "Dataset đã được lưu tại: /home/dikhangcshcmut/Code/code_for_fun/Project/RecommendationProduct/AmazonRecommendationBasedOnPreview/datasets\n"
     ]
    }
   ],
   "source": [
    "import kagglehub\n",
    "import os\n",
    "import shutil\n",
    "# Download latest version\n",
    "path = kagglehub.dataset_download(\"karkavelrajaj/amazon-sales-dataset\")\n",
    "data_dir = \"./datasets\"\n",
    "\n",
    "os.makedirs(data_dir, exist_ok=True)\n",
    "shutil.copytree(path, data_dir, dirs_exist_ok=True)\n",
    "\n",
    "print(\"Dataset đã được lưu tại:\", os.path.abspath(data_dir))"
   ]
  }
 ],
 "metadata": {
  "kernelspec": {
   "display_name": "Python (pytorch-venv)",
   "language": "python",
   "name": "pytorch-venv"
  },
  "language_info": {
   "codemirror_mode": {
    "name": "ipython",
    "version": 3
   },
   "file_extension": ".py",
   "mimetype": "text/x-python",
   "name": "python",
   "nbconvert_exporter": "python",
   "pygments_lexer": "ipython3",
   "version": "3.12.3"
  }
 },
 "nbformat": 4,
 "nbformat_minor": 5
}
